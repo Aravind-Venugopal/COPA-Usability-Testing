{
 "cells": [
  {
   "cell_type": "code",
   "execution_count": 1,
   "metadata": {},
   "outputs": [],
   "source": [
    "import pandas as pd\n",
    "import bs4 as bs\n",
    "import re\n",
    "import requests\n",
    "from selenium import webdriver\n",
    "from tqdm import tqdm_notebook as tqdm\n",
    "from time import sleep\n",
    "from os import listdir\n",
    "from os.path import isfile, join, isdir\n",
    "import random\n",
    "import itertools\n",
    "from pywebcopy import save_webpage"
   ]
  },
  {
   "cell_type": "markdown",
   "metadata": {},
   "source": [
    "## Original Search Results"
   ]
  },
  {
   "cell_type": "code",
   "execution_count": 47,
   "metadata": {},
   "outputs": [],
   "source": [
    "# import list of search strings\n",
    "search_list = pd.read_csv('./sample_list.csv', skiprows=2)"
   ]
  },
  {
   "cell_type": "code",
   "execution_count": 93,
   "metadata": {},
   "outputs": [],
   "source": [
    "# change spaces to %20 as prescribed in the new search url and store on list\n",
    "query_list = search_list['Query'].str.replace(' ', '%20')\n",
    "query_list = list(set(query_list))"
   ]
  },
  {
   "cell_type": "code",
   "execution_count": 94,
   "metadata": {},
   "outputs": [],
   "source": [
    "# define query url\n",
    "query_url = 'https://forum.cirruspilots.org/search?q='"
   ]
  },
  {
   "cell_type": "code",
   "execution_count": 2,
   "metadata": {},
   "outputs": [],
   "source": [
    "# define site login function\n",
    "def site_login():\n",
    "    '''\n",
    "    This is a helper function that logins to cirruspilots.org\n",
    "    '''\n",
    "    driver.get('https://passport.cirruspilots.org/')\n",
    "    driver.find_element_by_id(\n",
    "        'dnn_ctr_Login_Login_DNN_txtUsername').send_keys('jloretizo')\n",
    "    driver.find_element_by_id(\n",
    "        'dnn_ctr_Login_Login_DNN_txtPassword').send_keys('cth4h#@EoY*a')\n",
    "    driver.find_element_by_id('login_btn').click()"
   ]
  },
  {
   "cell_type": "code",
   "execution_count": 18,
   "metadata": {},
   "outputs": [],
   "source": [
    "# define the driver and execute login \n",
    "driver = webdriver.Safari()\n",
    "site_login()"
   ]
  },
  {
   "cell_type": "code",
   "execution_count": null,
   "metadata": {},
   "outputs": [],
   "source": []
  },
  {
   "cell_type": "code",
   "execution_count": 337,
   "metadata": {},
   "outputs": [
    {
     "name": "stderr",
     "output_type": "stream",
     "text": [
      "/Library/Frameworks/Python.framework/Versions/3.7/lib/python3.7/site-packages/ipykernel_launcher.py:3: TqdmDeprecationWarning: This function will be removed in tqdm==5.0.0\n",
      "Please use `tqdm.notebook.tqdm` instead of `tqdm.tqdm_notebook`\n",
      "  This is separate from the ipykernel package so we can avoid doing imports until\n"
     ]
    },
    {
     "data": {
      "application/vnd.jupyter.widget-view+json": {
       "model_id": "c799ca5b7e4f4ea7bebf99165164abf0",
       "version_major": 2,
       "version_minor": 0
      },
      "text/plain": [
       "HBox(children=(FloatProgress(value=0.0, max=10.0), HTML(value='')))"
      ]
     },
     "metadata": {},
     "output_type": "display_data"
    },
    {
     "name": "stdout",
     "output_type": "stream",
     "text": [
      "\n"
     ]
    }
   ],
   "source": [
    "# get the results set\n",
    "results_set = {}\n",
    "for i in tqdm(query_list):\n",
    "    driver.get(query_url + i, )\n",
    "    sleep(2)\n",
    "    soup = bs.BeautifulSoup(driver.page_source, 'html.parser')\n",
    "    links_list = []\n",
    "    for j in soup.find_all(class_='fps-result'):\n",
    "        href = j.find(class_='search-link')['href']\n",
    "        links_list.append(href)\n",
    "    results_set[i] = links_list\n",
    "    sleep(2)"
   ]
  },
  {
   "cell_type": "code",
   "execution_count": 10,
   "metadata": {},
   "outputs": [],
   "source": [
    "def get_post_ids(row):\n",
    "    ref_nums = []\n",
    "    for i in range(len(row)):\n",
    "        try:\n",
    "            num = re.findall(r'\\/[0-9]+\\/[0-9]|\\/[\\d]+$', str(row[i]))[0]\n",
    "        except:\n",
    "            num = None\n",
    "        ref_nums.append(num)\n",
    "    return ref_nums"
   ]
  },
  {
   "cell_type": "code",
   "execution_count": 370,
   "metadata": {},
   "outputs": [],
   "source": [
    "results_df = pd.DataFrame.from_dict(results_set, orient='index')\n",
    "# results_df = results_df.reset_index()\n",
    "results_df['ref_nums'] = results_df.apply(\n",
    "    lambda row: get_post_ids(row), axis=1)"
   ]
  },
  {
   "cell_type": "code",
   "execution_count": 412,
   "metadata": {},
   "outputs": [],
   "source": [
    "full_links = results_df.drop('ref_nums', axis=1).stack().reset_index().rename(\n",
    "    columns={'level_0': 'search string', 0: 'id'})"
   ]
  },
  {
   "cell_type": "code",
   "execution_count": 413,
   "metadata": {},
   "outputs": [],
   "source": [
    "full_links['search string'] = full_links['search string'].apply(\n",
    "    lambda x: x.replace('%20', ' '))\n",
    "full_links.to_csv('./results_df.csv')"
   ]
  },
  {
   "cell_type": "code",
   "execution_count": 371,
   "metadata": {},
   "outputs": [],
   "source": [
    "# converting links to dictionary\n",
    "links_dict = {}\n",
    "for i in results_df.index:\n",
    "    links_dict[i] = results_df.loc[i]['ref_nums']"
   ]
  },
  {
   "cell_type": "code",
   "execution_count": 388,
   "metadata": {},
   "outputs": [],
   "source": [
    "# stacking and resetting new dataframe\n",
    "link_ids = pd.DataFrame.from_dict(\n",
    "    links_dict, orient='index').stack().reset_index()"
   ]
  },
  {
   "cell_type": "code",
   "execution_count": 389,
   "metadata": {},
   "outputs": [],
   "source": [
    "# column rename and search string renames\n",
    "link_ids['level_0'] = link_ids['level_0'].apply(\n",
    "    lambda x: x.replace('%20', ' '))\n",
    "link_ids = link_ids.rename(columns={'level_0': 'search string', 0: 'id'})"
   ]
  },
  {
   "cell_type": "code",
   "execution_count": 393,
   "metadata": {},
   "outputs": [],
   "source": [
    "# saving data to csv\n",
    "link_ids[['search string', 'id']].to_csv('./search_results.csv', index=False)"
   ]
  },
  {
   "cell_type": "code",
   "execution_count": null,
   "metadata": {},
   "outputs": [],
   "source": []
  },
  {
   "cell_type": "markdown",
   "metadata": {},
   "source": [
    "## New Search Results"
   ]
  },
  {
   "cell_type": "code",
   "execution_count": 2,
   "metadata": {},
   "outputs": [],
   "source": [
    "test_links = pd.read_csv('./test_links.csv')"
   ]
  },
  {
   "cell_type": "code",
   "execution_count": 3,
   "metadata": {},
   "outputs": [],
   "source": [
    "# get all files from path\n",
    "mypath = '/Users/jeloretizo/Documents/MSBA/Practicum Project/COPA-Usability-Testing'\n",
    "files = [f for f in listdir(mypath) if isfile(join(mypath, f)) and ('ratio' in f)]"
   ]
  },
  {
   "cell_type": "code",
   "execution_count": 10,
   "metadata": {},
   "outputs": [],
   "source": [
    "query_strings = ['brakes during taxi',\n",
    "                 'capture glide slope above',\n",
    "                 'stall under hood',\n",
    "                 'find flight instructor',\n",
    "                 'oxygen altitude',\n",
    "                 'file nasa report',\n",
    "                 'loose fairing noise',\n",
    "                 'loose seat belt',\n",
    "                 'power off landing',\n",
    "                 'music volume low']"
   ]
  },
  {
   "cell_type": "code",
   "execution_count": 5,
   "metadata": {},
   "outputs": [],
   "source": [
    "panel_labels = ['Panel1.html', 'Panel2.html', 'Panel3.html', 'Panel4.html']"
   ]
  },
  {
   "cell_type": "code",
   "execution_count": 31,
   "metadata": {},
   "outputs": [],
   "source": [
    "def get_rerank_list(soup, rerank):\n",
    "    ''' Helper function to rerank soup files'''\n",
    "    all_items = soup.find_all(class_='fps-result')\n",
    "    html_links = pd.DataFrame(all_items).reset_index()\n",
    "    html_links = html_links.rename(columns={'index':'old_rank'})\n",
    "    html_links['id'] = html_links[3].apply(lambda x: get_href(x))\n",
    "    rerank = rerank.reset_index(drop=True).reset_index()\n",
    "    rerank = rerank.rename(columns={'index': 'New Rank'})\n",
    "    for i in html_links['id']:\n",
    "        try: \n",
    "#             print(rerank.loc[temp_var['url-id'].str.contains(i)])\n",
    "            new_rank = rerank.loc[rerank['url-id'].str.contains(i)].index[0]\n",
    "        except:\n",
    "            new_rank = None\n",
    "        html_links.loc[html_links['id'] == i, 'New Rank'] = new_rank\n",
    "#     print(html_links.head())\n",
    "    new_order = list(html_links.sort_values('New Rank', ascending=True)['old_rank'])\n",
    "#     print(html_links.head)\n",
    "    final_order = [all_items[i] for i in new_order]\n",
    "    return final_order"
   ]
  },
  {
   "cell_type": "code",
   "execution_count": 7,
   "metadata": {},
   "outputs": [],
   "source": [
    "def get_id(item):\n",
    "    ''' Helper function to get id from ratio combo file '''\n",
    "    res_url = re.findall(r'\\/[0-9]+\\/[0-9]+|\\/[\\d]+$',item)[0]\n",
    "    return res_url"
   ]
  },
  {
   "cell_type": "code",
   "execution_count": 8,
   "metadata": {},
   "outputs": [],
   "source": [
    "def get_href(html):\n",
    "    ''' Helper function to get id from the html files '''\n",
    "    href = html.find(class_='search-link')['href']\n",
    "    return get_id(href)"
   ]
  },
  {
   "cell_type": "code",
   "execution_count": 33,
   "metadata": {
    "scrolled": false
   },
   "outputs": [
    {
     "name": "stderr",
     "output_type": "stream",
     "text": [
      "/Library/Frameworks/Python.framework/Versions/3.7/lib/python3.7/site-packages/ipykernel_launcher.py:1: TqdmDeprecationWarning: This function will be removed in tqdm==5.0.0\n",
      "Please use `tqdm.notebook.tqdm` instead of `tqdm.tqdm_notebook`\n",
      "  \"\"\"Entry point for launching an IPython kernel.\n"
     ]
    },
    {
     "data": {
      "application/vnd.jupyter.widget-view+json": {
       "model_id": "30aa6c9367e145d4bfdc3b4f45aa1a8c",
       "version_major": 2,
       "version_minor": 0
      },
      "text/plain": [
       "HBox(children=(FloatProgress(value=0.0, max=10.0), HTML(value='')))"
      ]
     },
     "metadata": {},
     "output_type": "display_data"
    },
    {
     "name": "stdout",
     "output_type": "stream",
     "text": [
      "brakes during taxi  -- Control Panel Printed in: Panel1.html\n",
      "brakes during taxi  -- Model Ratio:  ratio_comb3.csv  -- Printed in:  Panel2.html\n",
      "brakes during taxi  -- Model Ratio:  ratio_comb2.csv  -- Printed in:  Panel3.html\n",
      "brakes during taxi  -- Model Ratio:  ratio_comb1.csv  -- Printed in:  Panel4.html\n",
      "capture glide slope above  -- Control Panel Printed in: Panel2.html\n",
      "capture glide slope above  -- Model Ratio:  ratio_comb3.csv  -- Printed in:  Panel3.html\n",
      "capture glide slope above  -- Model Ratio:  ratio_comb2.csv  -- Printed in:  Panel4.html\n",
      "capture glide slope above  -- Model Ratio:  ratio_comb1.csv  -- Printed in:  Panel1.html\n",
      "stall under hood  -- Control Panel Printed in: Panel2.html\n",
      "stall under hood  -- Model Ratio:  ratio_comb3.csv  -- Printed in:  Panel1.html\n",
      "stall under hood  -- Model Ratio:  ratio_comb2.csv  -- Printed in:  Panel3.html\n",
      "stall under hood  -- Model Ratio:  ratio_comb1.csv  -- Printed in:  Panel4.html\n",
      "find flight instructor  -- Control Panel Printed in: Panel3.html\n",
      "find flight instructor  -- Model Ratio:  ratio_comb3.csv  -- Printed in:  Panel2.html\n",
      "find flight instructor  -- Model Ratio:  ratio_comb2.csv  -- Printed in:  Panel1.html\n",
      "find flight instructor  -- Model Ratio:  ratio_comb1.csv  -- Printed in:  Panel4.html\n",
      "oxygen altitude  -- Control Panel Printed in: Panel3.html\n",
      "oxygen altitude  -- Model Ratio:  ratio_comb3.csv  -- Printed in:  Panel4.html\n",
      "oxygen altitude  -- Model Ratio:  ratio_comb2.csv  -- Printed in:  Panel2.html\n",
      "oxygen altitude  -- Model Ratio:  ratio_comb1.csv  -- Printed in:  Panel1.html\n",
      "file nasa report  -- Control Panel Printed in: Panel2.html\n",
      "file nasa report  -- Model Ratio:  ratio_comb3.csv  -- Printed in:  Panel4.html\n",
      "file nasa report  -- Model Ratio:  ratio_comb2.csv  -- Printed in:  Panel1.html\n",
      "file nasa report  -- Model Ratio:  ratio_comb1.csv  -- Printed in:  Panel3.html\n",
      "loose fairing noise  -- Control Panel Printed in: Panel2.html\n",
      "loose fairing noise  -- Model Ratio:  ratio_comb3.csv  -- Printed in:  Panel1.html\n",
      "loose fairing noise  -- Model Ratio:  ratio_comb2.csv  -- Printed in:  Panel3.html\n",
      "loose fairing noise  -- Model Ratio:  ratio_comb1.csv  -- Printed in:  Panel4.html\n",
      "loose seat belt  -- Control Panel Printed in: Panel2.html\n",
      "loose seat belt  -- Model Ratio:  ratio_comb3.csv  -- Printed in:  Panel1.html\n",
      "loose seat belt  -- Model Ratio:  ratio_comb2.csv  -- Printed in:  Panel3.html\n",
      "loose seat belt  -- Model Ratio:  ratio_comb1.csv  -- Printed in:  Panel4.html\n",
      "power off landing  -- Control Panel Printed in: Panel1.html\n",
      "power off landing  -- Model Ratio:  ratio_comb3.csv  -- Printed in:  Panel4.html\n",
      "power off landing  -- Model Ratio:  ratio_comb2.csv  -- Printed in:  Panel2.html\n",
      "power off landing  -- Model Ratio:  ratio_comb1.csv  -- Printed in:  Panel3.html\n",
      "music volume low  -- Control Panel Printed in: Panel2.html\n",
      "music volume low  -- Model Ratio:  ratio_comb3.csv  -- Printed in:  Panel1.html\n",
      "music volume low  -- Model Ratio:  ratio_comb2.csv  -- Printed in:  Panel3.html\n",
      "music volume low  -- Model Ratio:  ratio_comb1.csv  -- Printed in:  Panel4.html\n",
      "\n"
     ]
    }
   ],
   "source": [
    "for i in tqdm(query_strings):\n",
    "#     print(i)\n",
    "    random_panels = random.sample(panel_labels, 4)\n",
    "    folder_name = i.title().replace(' ', '')\n",
    "    query_path = mypath + '/' + folder_name + '/'\n",
    "    file = [f for f in listdir(query_path) if (\n",
    "        i in f) and (isdir(join(query_path, f)) == False)]\n",
    "    if len(file) == 1:\n",
    "        with open('./{}/{}'.format(folder_name, file[0]), 'r') as open_file:\n",
    "            soup = bs.BeautifulSoup(open_file, 'html.parser')\n",
    "            saved_soup = soup\n",
    "            print(i, ' -- Control Panel Printed in:', random_panels[3])\n",
    "            with open('./{}/{}'.format(folder_name, random_panels[3]), 'w') as output_file:\n",
    "                test_links.loc[(test_links['0'] == folder_name) & (test_links['1'] == random_panels[3]), \n",
    "                              'Panel Type'] = 'Control'\n",
    "                output_file.write(str(saved_soup))\n",
    "                output_file.close()\n",
    "            model_number = 0\n",
    "            for j in files:\n",
    "                ratio = pd.read_csv('./' + j)\n",
    "                ratio['url-id'] = ratio['url'].apply(lambda x: get_id(x))\n",
    "                temp_var = ratio.loc[ratio['Query'] == i]\n",
    "                final_list = get_rerank_list(soup, temp_var)\n",
    "#                 print(final_list)\n",
    "                with open('./{}/{}'.format(folder_name, file[0]), 'r') as open_file:\n",
    "                    soup = bs.BeautifulSoup(open_file, 'html.parser')\n",
    "                for k in range(len(final_list)):\n",
    "                    soup.find_all(\n",
    "                        class_='fps-result')[k].replace_with(final_list[k])\n",
    "                print(i, ' -- Model Ratio: ', j, ' -- Printed in: ',\n",
    "                      random_panels[model_number])\n",
    "                test_links.loc[(test_links['0'] == folder_name) & (test_links['1'] == random_panels[model_number]), \n",
    "                              'Panel Type'] = j\n",
    "                with open('./{}/{}'.format(folder_name, random_panels[model_number]), 'w') as output_file:\n",
    "                    output_file.write(str(soup))\n",
    "                    output_file.close()\n",
    "                model_number += 1"
   ]
  },
  {
   "cell_type": "code",
   "execution_count": 34,
   "metadata": {},
   "outputs": [],
   "source": [
    "test_links.to_csv('./test_links.csv', index=False)"
   ]
  },
  {
   "cell_type": "code",
   "execution_count": 15,
   "metadata": {},
   "outputs": [
    {
     "data": {
      "text/plain": [
       "'capture glide slope above'"
      ]
     },
     "execution_count": 15,
     "metadata": {},
     "output_type": "execute_result"
    }
   ],
   "source": [
    "query_strings[1]"
   ]
  },
  {
   "cell_type": "code",
   "execution_count": 137,
   "metadata": {},
   "outputs": [],
   "source": [
    "test_links = pd.DataFrame(list(itertools.product(folder_names, panel_labels)))"
   ]
  },
  {
   "cell_type": "code",
   "execution_count": 138,
   "metadata": {},
   "outputs": [],
   "source": [
    "test_links['github_link'] = 'https://johnelmer.github.io/COPA-Usability-Testing/' + test_links[0] + '/' + test_links[1]"
   ]
  },
  {
   "cell_type": "code",
   "execution_count": 147,
   "metadata": {},
   "outputs": [],
   "source": [
    "def make_tiny(url): \n",
    "    request_url = ('http://tinyurl.com/api-create.php?' + urlencode({'url':url}))     \n",
    "    with contextlib.closing(urlopen(request_url)) as response:                       \n",
    "        return response.read().decode('utf-8 ')  "
   ]
  },
  {
   "cell_type": "code",
   "execution_count": 146,
   "metadata": {},
   "outputs": [],
   "source": [
    "from __future__ import with_statement\n",
    "\n",
    "import contextlib\n",
    "\n",
    "try:\n",
    "    from urllib.parse import urlencode\n",
    "\n",
    "except ImportError:\n",
    "    from urllib import urlencode\n",
    "\n",
    "try:\n",
    "    from urllib.request import urlopen\n",
    "\n",
    "except ImportError:\n",
    "    from urllib2 import urlopen\n",
    "\n",
    "import sys"
   ]
  },
  {
   "cell_type": "code",
   "execution_count": 149,
   "metadata": {},
   "outputs": [],
   "source": [
    "test_links['tiny_url'] = test_links['github_link'].apply(lambda x: make_tiny(x))"
   ]
  },
  {
   "cell_type": "code",
   "execution_count": 134,
   "metadata": {},
   "outputs": [
    {
     "name": "stdout",
     "output_type": "stream",
     "text": [
      "('BrakesDuringTaxi', 'Panel1.html')\n",
      "('BrakesDuringTaxi', 'Panel2.html')\n",
      "('BrakesDuringTaxi', 'Panel3.html')\n",
      "('BrakesDuringTaxi', 'Panel4.html')\n",
      "('CaptureGlideSlopeAbove', 'Panel1.html')\n",
      "('CaptureGlideSlopeAbove', 'Panel2.html')\n",
      "('CaptureGlideSlopeAbove', 'Panel3.html')\n",
      "('CaptureGlideSlopeAbove', 'Panel4.html')\n",
      "('StallUnderHood', 'Panel1.html')\n",
      "('StallUnderHood', 'Panel2.html')\n",
      "('StallUnderHood', 'Panel3.html')\n",
      "('StallUnderHood', 'Panel4.html')\n",
      "('FindFlightInstructor', 'Panel1.html')\n",
      "('FindFlightInstructor', 'Panel2.html')\n",
      "('FindFlightInstructor', 'Panel3.html')\n",
      "('FindFlightInstructor', 'Panel4.html')\n",
      "('OxygenAltitude', 'Panel1.html')\n",
      "('OxygenAltitude', 'Panel2.html')\n",
      "('OxygenAltitude', 'Panel3.html')\n",
      "('OxygenAltitude', 'Panel4.html')\n",
      "('FileNasaReport', 'Panel1.html')\n",
      "('FileNasaReport', 'Panel2.html')\n",
      "('FileNasaReport', 'Panel3.html')\n",
      "('FileNasaReport', 'Panel4.html')\n",
      "('LooseFairingNoise', 'Panel1.html')\n",
      "('LooseFairingNoise', 'Panel2.html')\n",
      "('LooseFairingNoise', 'Panel3.html')\n",
      "('LooseFairingNoise', 'Panel4.html')\n",
      "('LooseSeatBelt', 'Panel1.html')\n",
      "('LooseSeatBelt', 'Panel2.html')\n",
      "('LooseSeatBelt', 'Panel3.html')\n",
      "('LooseSeatBelt', 'Panel4.html')\n",
      "('PowerOffLanding', 'Panel1.html')\n",
      "('PowerOffLanding', 'Panel2.html')\n",
      "('PowerOffLanding', 'Panel3.html')\n",
      "('PowerOffLanding', 'Panel4.html')\n",
      "('MusicVolumeLow', 'Panel1.html')\n",
      "('MusicVolumeLow', 'Panel2.html')\n",
      "('MusicVolumeLow', 'Panel3.html')\n",
      "('MusicVolumeLow', 'Panel4.html')\n"
     ]
    }
   ],
   "source": [
    "for i in itertools.product(folder_names, panel_labels):\n",
    "    print(i)"
   ]
  },
  {
   "cell_type": "code",
   "execution_count": 37,
   "metadata": {},
   "outputs": [],
   "source": [
    "# find all content item classes\n",
    "for i in soup.find_all(class_='content-item'):\n",
    "    # change the value of title inside the a tag\n",
    "    i.find(class_='abbreviated-post').find('h4').find('a')['title'] = 'New Title'\n",
    "    # change the href for link\n",
    "    i.find(class_='abbreviated-post').find('h4').find('a')['href'] = 'New Title'\n",
    "    # change text value\n",
    "    i.find(class_='abbreviated-post').find('h4').find('a').string.replace_with(\"No longer bold\")\n",
    "    "
   ]
  },
  {
   "cell_type": "code",
   "execution_count": 38,
   "metadata": {},
   "outputs": [],
   "source": [
    "# save this new html as test panel\n",
    "with open(\"output1.html\", \"w\") as file:\n",
    "    file.write(str(soup))"
   ]
  },
  {
   "cell_type": "code",
   "execution_count": 41,
   "metadata": {},
   "outputs": [
    {
     "data": {
      "text/plain": [
       "<h4 class=\"post-name\"><a class=\"internal-link view-post\" href=\"https://www.cirruspilots.org/copa/safety_programs/f/349/t/159914.aspx\" title=\"New Title\">No longer bold</a></h4>"
      ]
     },
     "execution_count": 41,
     "metadata": {},
     "output_type": "execute_result"
    }
   ],
   "source": [
    "soup.find_all(class_='content-item')[0].find('h4')"
   ]
  }
 ],
 "metadata": {
  "kernelspec": {
   "display_name": "Python 3",
   "language": "python",
   "name": "python3"
  },
  "language_info": {
   "codemirror_mode": {
    "name": "ipython",
    "version": 3
   },
   "file_extension": ".py",
   "mimetype": "text/x-python",
   "name": "python",
   "nbconvert_exporter": "python",
   "pygments_lexer": "ipython3",
   "version": "3.7.2"
  },
  "toc": {
   "base_numbering": 1,
   "nav_menu": {},
   "number_sections": true,
   "sideBar": true,
   "skip_h1_title": false,
   "title_cell": "Table of Contents",
   "title_sidebar": "Contents",
   "toc_cell": false,
   "toc_position": {},
   "toc_section_display": true,
   "toc_window_display": false
  },
  "varInspector": {
   "cols": {
    "lenName": 16,
    "lenType": 16,
    "lenVar": 40
   },
   "kernels_config": {
    "python": {
     "delete_cmd_postfix": "",
     "delete_cmd_prefix": "del ",
     "library": "var_list.py",
     "varRefreshCmd": "print(var_dic_list())"
    },
    "r": {
     "delete_cmd_postfix": ") ",
     "delete_cmd_prefix": "rm(",
     "library": "var_list.r",
     "varRefreshCmd": "cat(var_dic_list()) "
    }
   },
   "oldHeight": 122,
   "position": {
    "height": "40px",
    "left": "1069px",
    "right": "20px",
    "top": "120px",
    "width": "350px"
   },
   "types_to_exclude": [
    "module",
    "function",
    "builtin_function_or_method",
    "instance",
    "_Feature"
   ],
   "varInspector_section_display": "none",
   "window_display": true
  }
 },
 "nbformat": 4,
 "nbformat_minor": 2
}
